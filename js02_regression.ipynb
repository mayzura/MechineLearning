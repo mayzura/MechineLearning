{
  "cells": [
    {
      "cell_type": "markdown",
      "metadata": {
        "id": "view-in-github",
        "colab_type": "text"
      },
      "source": [
        "<a href=\"https://colab.research.google.com/github/mayzura/MechineLearning/blob/main/js02_regression.ipynb\" target=\"_parent\"><img src=\"https://colab.research.google.com/assets/colab-badge.svg\" alt=\"Open In Colab\"/></a>"
      ]
    },
    {
      "cell_type": "markdown",
      "metadata": {
        "id": "vfV5eF9YoVon"
      },
      "source": [
        "# Jobsheet 02 - Regression\n",
        "\n",
        "Isikan identitas berikut\n",
        "NIM: 2241727012\n",
        "Nama: Fajriyah Mayzura Agustin\n",
        "Kelas: TI 4J"
      ]
    },
    {
      "cell_type": "markdown",
      "metadata": {
        "id": "clB38WrioVos"
      },
      "source": [
        "## Tujuan\n",
        "1. Mahasiswa mampu menjelaskan konsep regresi\n",
        "2. Mahasiswa mampu menerapkan konsep regresi untuk kasus prediksi data"
      ]
    },
    {
      "cell_type": "markdown",
      "metadata": {
        "id": "FAbixdqzoVot"
      },
      "source": [
        "## Kegiatan Praktikum"
      ]
    },
    {
      "cell_type": "markdown",
      "metadata": {
        "id": "E8f_-lJboVov"
      },
      "source": [
        "Kegiatan praktikum ini membutuhkan dataset untuk diolah datanya menjadi sebuah analisis prediksi. Ikuti petunjuk dari dosen pengampu mengenai data apa saja yang boleh dipakai untuk kegiatan praktikum kali ini. Data yang ditampilkan pada jobsheet hanya sebuah contoh, mahasiswa harus mencari data sendiri dan memastikan data yang diperoleh tersebut sesuai dengan kasus yang dapat diselesaikan dengan regresi."
      ]
    },
    {
      "cell_type": "markdown",
      "metadata": {
        "id": "NwH2z_-FoVow"
      },
      "source": [
        "### Persiapan Data"
      ]
    },
    {
      "cell_type": "code",
      "execution_count": 1,
      "metadata": {
        "id": "6Eb4pLN-oVox"
      },
      "outputs": [],
      "source": [
        "# import package\n",
        "import numpy as np\n",
        "import pandas as pd"
      ]
    },
    {
      "cell_type": "code",
      "source": [
        "from google.colab import drive\n",
        "drive.mount('/content/drive')"
      ],
      "metadata": {
        "colab": {
          "base_uri": "https://localhost:8080/"
        },
        "id": "C93bTLy7qhjU",
        "outputId": "4440d7f8-74f8-44dc-d365-a2aee7856729"
      },
      "execution_count": 56,
      "outputs": [
        {
          "output_type": "stream",
          "name": "stdout",
          "text": [
            "Drive already mounted at /content/drive; to attempt to forcibly remount, call drive.mount(\"/content/drive\", force_remount=True).\n"
          ]
        }
      ]
    },
    {
      "cell_type": "code",
      "execution_count": 57,
      "metadata": {
        "colab": {
          "base_uri": "https://localhost:8080/",
          "height": 426
        },
        "id": "J_XZPbN1oVoz",
        "outputId": "212846d8-e184-4928-d1e5-fb020d51530e"
      },
      "outputs": [
        {
          "output_type": "execute_result",
          "data": {
            "text/plain": [
              "   Unnamed: 0  work_year experience_level employment_type  \\\n",
              "0           0       2020               MI              FT   \n",
              "1           1       2020               SE              FT   \n",
              "2           2       2020               SE              FT   \n",
              "3           3       2020               MI              FT   \n",
              "4           4       2020               SE              FT   \n",
              "\n",
              "                    job_title  salary salary_currency  salary_in_usd  \\\n",
              "0              Data Scientist   70000             EUR          79833   \n",
              "1  Machine Learning Scientist  260000             USD         260000   \n",
              "2           Big Data Engineer   85000             GBP         109024   \n",
              "3        Product Data Analyst   20000             USD          20000   \n",
              "4   Machine Learning Engineer  150000             USD         150000   \n",
              "\n",
              "  employee_residence  remote_ratio company_location company_size  \n",
              "0                 DE             0               DE            L  \n",
              "1                 JP             0               JP            S  \n",
              "2                 GB            50               GB            M  \n",
              "3                 HN             0               HN            S  \n",
              "4                 US            50               US            L  "
            ],
            "text/html": [
              "\n",
              "  <div id=\"df-fcc85982-8705-4a0a-80b8-e7511714974a\">\n",
              "    <div class=\"colab-df-container\">\n",
              "      <div>\n",
              "<style scoped>\n",
              "    .dataframe tbody tr th:only-of-type {\n",
              "        vertical-align: middle;\n",
              "    }\n",
              "\n",
              "    .dataframe tbody tr th {\n",
              "        vertical-align: top;\n",
              "    }\n",
              "\n",
              "    .dataframe thead th {\n",
              "        text-align: right;\n",
              "    }\n",
              "</style>\n",
              "<table border=\"1\" class=\"dataframe\">\n",
              "  <thead>\n",
              "    <tr style=\"text-align: right;\">\n",
              "      <th></th>\n",
              "      <th>Unnamed: 0</th>\n",
              "      <th>work_year</th>\n",
              "      <th>experience_level</th>\n",
              "      <th>employment_type</th>\n",
              "      <th>job_title</th>\n",
              "      <th>salary</th>\n",
              "      <th>salary_currency</th>\n",
              "      <th>salary_in_usd</th>\n",
              "      <th>employee_residence</th>\n",
              "      <th>remote_ratio</th>\n",
              "      <th>company_location</th>\n",
              "      <th>company_size</th>\n",
              "    </tr>\n",
              "  </thead>\n",
              "  <tbody>\n",
              "    <tr>\n",
              "      <th>0</th>\n",
              "      <td>0</td>\n",
              "      <td>2020</td>\n",
              "      <td>MI</td>\n",
              "      <td>FT</td>\n",
              "      <td>Data Scientist</td>\n",
              "      <td>70000</td>\n",
              "      <td>EUR</td>\n",
              "      <td>79833</td>\n",
              "      <td>DE</td>\n",
              "      <td>0</td>\n",
              "      <td>DE</td>\n",
              "      <td>L</td>\n",
              "    </tr>\n",
              "    <tr>\n",
              "      <th>1</th>\n",
              "      <td>1</td>\n",
              "      <td>2020</td>\n",
              "      <td>SE</td>\n",
              "      <td>FT</td>\n",
              "      <td>Machine Learning Scientist</td>\n",
              "      <td>260000</td>\n",
              "      <td>USD</td>\n",
              "      <td>260000</td>\n",
              "      <td>JP</td>\n",
              "      <td>0</td>\n",
              "      <td>JP</td>\n",
              "      <td>S</td>\n",
              "    </tr>\n",
              "    <tr>\n",
              "      <th>2</th>\n",
              "      <td>2</td>\n",
              "      <td>2020</td>\n",
              "      <td>SE</td>\n",
              "      <td>FT</td>\n",
              "      <td>Big Data Engineer</td>\n",
              "      <td>85000</td>\n",
              "      <td>GBP</td>\n",
              "      <td>109024</td>\n",
              "      <td>GB</td>\n",
              "      <td>50</td>\n",
              "      <td>GB</td>\n",
              "      <td>M</td>\n",
              "    </tr>\n",
              "    <tr>\n",
              "      <th>3</th>\n",
              "      <td>3</td>\n",
              "      <td>2020</td>\n",
              "      <td>MI</td>\n",
              "      <td>FT</td>\n",
              "      <td>Product Data Analyst</td>\n",
              "      <td>20000</td>\n",
              "      <td>USD</td>\n",
              "      <td>20000</td>\n",
              "      <td>HN</td>\n",
              "      <td>0</td>\n",
              "      <td>HN</td>\n",
              "      <td>S</td>\n",
              "    </tr>\n",
              "    <tr>\n",
              "      <th>4</th>\n",
              "      <td>4</td>\n",
              "      <td>2020</td>\n",
              "      <td>SE</td>\n",
              "      <td>FT</td>\n",
              "      <td>Machine Learning Engineer</td>\n",
              "      <td>150000</td>\n",
              "      <td>USD</td>\n",
              "      <td>150000</td>\n",
              "      <td>US</td>\n",
              "      <td>50</td>\n",
              "      <td>US</td>\n",
              "      <td>L</td>\n",
              "    </tr>\n",
              "  </tbody>\n",
              "</table>\n",
              "</div>\n",
              "      <button class=\"colab-df-convert\" onclick=\"convertToInteractive('df-fcc85982-8705-4a0a-80b8-e7511714974a')\"\n",
              "              title=\"Convert this dataframe to an interactive table.\"\n",
              "              style=\"display:none;\">\n",
              "        \n",
              "  <svg xmlns=\"http://www.w3.org/2000/svg\" height=\"24px\"viewBox=\"0 0 24 24\"\n",
              "       width=\"24px\">\n",
              "    <path d=\"M0 0h24v24H0V0z\" fill=\"none\"/>\n",
              "    <path d=\"M18.56 5.44l.94 2.06.94-2.06 2.06-.94-2.06-.94-.94-2.06-.94 2.06-2.06.94zm-11 1L8.5 8.5l.94-2.06 2.06-.94-2.06-.94L8.5 2.5l-.94 2.06-2.06.94zm10 10l.94 2.06.94-2.06 2.06-.94-2.06-.94-.94-2.06-.94 2.06-2.06.94z\"/><path d=\"M17.41 7.96l-1.37-1.37c-.4-.4-.92-.59-1.43-.59-.52 0-1.04.2-1.43.59L10.3 9.45l-7.72 7.72c-.78.78-.78 2.05 0 2.83L4 21.41c.39.39.9.59 1.41.59.51 0 1.02-.2 1.41-.59l7.78-7.78 2.81-2.81c.8-.78.8-2.07 0-2.86zM5.41 20L4 18.59l7.72-7.72 1.47 1.35L5.41 20z\"/>\n",
              "  </svg>\n",
              "      </button>\n",
              "      \n",
              "  <style>\n",
              "    .colab-df-container {\n",
              "      display:flex;\n",
              "      flex-wrap:wrap;\n",
              "      gap: 12px;\n",
              "    }\n",
              "\n",
              "    .colab-df-convert {\n",
              "      background-color: #E8F0FE;\n",
              "      border: none;\n",
              "      border-radius: 50%;\n",
              "      cursor: pointer;\n",
              "      display: none;\n",
              "      fill: #1967D2;\n",
              "      height: 32px;\n",
              "      padding: 0 0 0 0;\n",
              "      width: 32px;\n",
              "    }\n",
              "\n",
              "    .colab-df-convert:hover {\n",
              "      background-color: #E2EBFA;\n",
              "      box-shadow: 0px 1px 2px rgba(60, 64, 67, 0.3), 0px 1px 3px 1px rgba(60, 64, 67, 0.15);\n",
              "      fill: #174EA6;\n",
              "    }\n",
              "\n",
              "    [theme=dark] .colab-df-convert {\n",
              "      background-color: #3B4455;\n",
              "      fill: #D2E3FC;\n",
              "    }\n",
              "\n",
              "    [theme=dark] .colab-df-convert:hover {\n",
              "      background-color: #434B5C;\n",
              "      box-shadow: 0px 1px 3px 1px rgba(0, 0, 0, 0.15);\n",
              "      filter: drop-shadow(0px 1px 2px rgba(0, 0, 0, 0.3));\n",
              "      fill: #FFFFFF;\n",
              "    }\n",
              "  </style>\n",
              "\n",
              "      <script>\n",
              "        const buttonEl =\n",
              "          document.querySelector('#df-fcc85982-8705-4a0a-80b8-e7511714974a button.colab-df-convert');\n",
              "        buttonEl.style.display =\n",
              "          google.colab.kernel.accessAllowed ? 'block' : 'none';\n",
              "\n",
              "        async function convertToInteractive(key) {\n",
              "          const element = document.querySelector('#df-fcc85982-8705-4a0a-80b8-e7511714974a');\n",
              "          const dataTable =\n",
              "            await google.colab.kernel.invokeFunction('convertToInteractive',\n",
              "                                                     [key], {});\n",
              "          if (!dataTable) return;\n",
              "\n",
              "          const docLinkHtml = 'Like what you see? Visit the ' +\n",
              "            '<a target=\"_blank\" href=https://colab.research.google.com/notebooks/data_table.ipynb>data table notebook</a>'\n",
              "            + ' to learn more about interactive tables.';\n",
              "          element.innerHTML = '';\n",
              "          dataTable['output_type'] = 'display_data';\n",
              "          await google.colab.output.renderOutput(dataTable, element);\n",
              "          const docLink = document.createElement('div');\n",
              "          docLink.innerHTML = docLinkHtml;\n",
              "          element.appendChild(docLink);\n",
              "        }\n",
              "      </script>\n",
              "    </div>\n",
              "  </div>\n",
              "  "
            ]
          },
          "metadata": {},
          "execution_count": 57
        }
      ],
      "source": [
        "# baca data\n",
        "data = pd.read_csv('/content/drive/MyDrive/Mechine Learning/ds_salaries.csv')\n",
        "data.head()"
      ]
    },
    {
      "cell_type": "code",
      "execution_count": 58,
      "metadata": {
        "colab": {
          "base_uri": "https://localhost:8080/",
          "height": 630
        },
        "id": "suzaer9EoVo1",
        "outputId": "f1717bf8-5c63-4e56-fb6c-0d6de2c8181e"
      },
      "outputs": [
        {
          "output_type": "stream",
          "name": "stdout",
          "text": [
            "<class 'pandas.core.frame.DataFrame'>\n",
            "RangeIndex: 607 entries, 0 to 606\n",
            "Data columns (total 12 columns):\n",
            " #   Column              Non-Null Count  Dtype \n",
            "---  ------              --------------  ----- \n",
            " 0   Unnamed: 0          607 non-null    int64 \n",
            " 1   work_year           607 non-null    int64 \n",
            " 2   experience_level    607 non-null    object\n",
            " 3   employment_type     607 non-null    object\n",
            " 4   job_title           607 non-null    object\n",
            " 5   salary              607 non-null    int64 \n",
            " 6   salary_currency     607 non-null    object\n",
            " 7   salary_in_usd       607 non-null    int64 \n",
            " 8   employee_residence  607 non-null    object\n",
            " 9   remote_ratio        607 non-null    int64 \n",
            " 10  company_location    607 non-null    object\n",
            " 11  company_size        607 non-null    object\n",
            "dtypes: int64(5), object(7)\n",
            "memory usage: 57.0+ KB\n"
          ]
        },
        {
          "output_type": "execute_result",
          "data": {
            "text/plain": [
              "       Unnamed: 0    work_year        salary  salary_in_usd  remote_ratio\n",
              "count  607.000000   607.000000  6.070000e+02     607.000000     607.00000\n",
              "mean   303.000000  2021.405272  3.240001e+05  112297.869852      70.92257\n",
              "std    175.370085     0.692133  1.544357e+06   70957.259411      40.70913\n",
              "min      0.000000  2020.000000  4.000000e+03    2859.000000       0.00000\n",
              "25%    151.500000  2021.000000  7.000000e+04   62726.000000      50.00000\n",
              "50%    303.000000  2022.000000  1.150000e+05  101570.000000     100.00000\n",
              "75%    454.500000  2022.000000  1.650000e+05  150000.000000     100.00000\n",
              "max    606.000000  2022.000000  3.040000e+07  600000.000000     100.00000"
            ],
            "text/html": [
              "\n",
              "  <div id=\"df-4697d016-0697-47b7-b657-8d4122182d1d\">\n",
              "    <div class=\"colab-df-container\">\n",
              "      <div>\n",
              "<style scoped>\n",
              "    .dataframe tbody tr th:only-of-type {\n",
              "        vertical-align: middle;\n",
              "    }\n",
              "\n",
              "    .dataframe tbody tr th {\n",
              "        vertical-align: top;\n",
              "    }\n",
              "\n",
              "    .dataframe thead th {\n",
              "        text-align: right;\n",
              "    }\n",
              "</style>\n",
              "<table border=\"1\" class=\"dataframe\">\n",
              "  <thead>\n",
              "    <tr style=\"text-align: right;\">\n",
              "      <th></th>\n",
              "      <th>Unnamed: 0</th>\n",
              "      <th>work_year</th>\n",
              "      <th>salary</th>\n",
              "      <th>salary_in_usd</th>\n",
              "      <th>remote_ratio</th>\n",
              "    </tr>\n",
              "  </thead>\n",
              "  <tbody>\n",
              "    <tr>\n",
              "      <th>count</th>\n",
              "      <td>607.000000</td>\n",
              "      <td>607.000000</td>\n",
              "      <td>6.070000e+02</td>\n",
              "      <td>607.000000</td>\n",
              "      <td>607.00000</td>\n",
              "    </tr>\n",
              "    <tr>\n",
              "      <th>mean</th>\n",
              "      <td>303.000000</td>\n",
              "      <td>2021.405272</td>\n",
              "      <td>3.240001e+05</td>\n",
              "      <td>112297.869852</td>\n",
              "      <td>70.92257</td>\n",
              "    </tr>\n",
              "    <tr>\n",
              "      <th>std</th>\n",
              "      <td>175.370085</td>\n",
              "      <td>0.692133</td>\n",
              "      <td>1.544357e+06</td>\n",
              "      <td>70957.259411</td>\n",
              "      <td>40.70913</td>\n",
              "    </tr>\n",
              "    <tr>\n",
              "      <th>min</th>\n",
              "      <td>0.000000</td>\n",
              "      <td>2020.000000</td>\n",
              "      <td>4.000000e+03</td>\n",
              "      <td>2859.000000</td>\n",
              "      <td>0.00000</td>\n",
              "    </tr>\n",
              "    <tr>\n",
              "      <th>25%</th>\n",
              "      <td>151.500000</td>\n",
              "      <td>2021.000000</td>\n",
              "      <td>7.000000e+04</td>\n",
              "      <td>62726.000000</td>\n",
              "      <td>50.00000</td>\n",
              "    </tr>\n",
              "    <tr>\n",
              "      <th>50%</th>\n",
              "      <td>303.000000</td>\n",
              "      <td>2022.000000</td>\n",
              "      <td>1.150000e+05</td>\n",
              "      <td>101570.000000</td>\n",
              "      <td>100.00000</td>\n",
              "    </tr>\n",
              "    <tr>\n",
              "      <th>75%</th>\n",
              "      <td>454.500000</td>\n",
              "      <td>2022.000000</td>\n",
              "      <td>1.650000e+05</td>\n",
              "      <td>150000.000000</td>\n",
              "      <td>100.00000</td>\n",
              "    </tr>\n",
              "    <tr>\n",
              "      <th>max</th>\n",
              "      <td>606.000000</td>\n",
              "      <td>2022.000000</td>\n",
              "      <td>3.040000e+07</td>\n",
              "      <td>600000.000000</td>\n",
              "      <td>100.00000</td>\n",
              "    </tr>\n",
              "  </tbody>\n",
              "</table>\n",
              "</div>\n",
              "      <button class=\"colab-df-convert\" onclick=\"convertToInteractive('df-4697d016-0697-47b7-b657-8d4122182d1d')\"\n",
              "              title=\"Convert this dataframe to an interactive table.\"\n",
              "              style=\"display:none;\">\n",
              "        \n",
              "  <svg xmlns=\"http://www.w3.org/2000/svg\" height=\"24px\"viewBox=\"0 0 24 24\"\n",
              "       width=\"24px\">\n",
              "    <path d=\"M0 0h24v24H0V0z\" fill=\"none\"/>\n",
              "    <path d=\"M18.56 5.44l.94 2.06.94-2.06 2.06-.94-2.06-.94-.94-2.06-.94 2.06-2.06.94zm-11 1L8.5 8.5l.94-2.06 2.06-.94-2.06-.94L8.5 2.5l-.94 2.06-2.06.94zm10 10l.94 2.06.94-2.06 2.06-.94-2.06-.94-.94-2.06-.94 2.06-2.06.94z\"/><path d=\"M17.41 7.96l-1.37-1.37c-.4-.4-.92-.59-1.43-.59-.52 0-1.04.2-1.43.59L10.3 9.45l-7.72 7.72c-.78.78-.78 2.05 0 2.83L4 21.41c.39.39.9.59 1.41.59.51 0 1.02-.2 1.41-.59l7.78-7.78 2.81-2.81c.8-.78.8-2.07 0-2.86zM5.41 20L4 18.59l7.72-7.72 1.47 1.35L5.41 20z\"/>\n",
              "  </svg>\n",
              "      </button>\n",
              "      \n",
              "  <style>\n",
              "    .colab-df-container {\n",
              "      display:flex;\n",
              "      flex-wrap:wrap;\n",
              "      gap: 12px;\n",
              "    }\n",
              "\n",
              "    .colab-df-convert {\n",
              "      background-color: #E8F0FE;\n",
              "      border: none;\n",
              "      border-radius: 50%;\n",
              "      cursor: pointer;\n",
              "      display: none;\n",
              "      fill: #1967D2;\n",
              "      height: 32px;\n",
              "      padding: 0 0 0 0;\n",
              "      width: 32px;\n",
              "    }\n",
              "\n",
              "    .colab-df-convert:hover {\n",
              "      background-color: #E2EBFA;\n",
              "      box-shadow: 0px 1px 2px rgba(60, 64, 67, 0.3), 0px 1px 3px 1px rgba(60, 64, 67, 0.15);\n",
              "      fill: #174EA6;\n",
              "    }\n",
              "\n",
              "    [theme=dark] .colab-df-convert {\n",
              "      background-color: #3B4455;\n",
              "      fill: #D2E3FC;\n",
              "    }\n",
              "\n",
              "    [theme=dark] .colab-df-convert:hover {\n",
              "      background-color: #434B5C;\n",
              "      box-shadow: 0px 1px 3px 1px rgba(0, 0, 0, 0.15);\n",
              "      filter: drop-shadow(0px 1px 2px rgba(0, 0, 0, 0.3));\n",
              "      fill: #FFFFFF;\n",
              "    }\n",
              "  </style>\n",
              "\n",
              "      <script>\n",
              "        const buttonEl =\n",
              "          document.querySelector('#df-4697d016-0697-47b7-b657-8d4122182d1d button.colab-df-convert');\n",
              "        buttonEl.style.display =\n",
              "          google.colab.kernel.accessAllowed ? 'block' : 'none';\n",
              "\n",
              "        async function convertToInteractive(key) {\n",
              "          const element = document.querySelector('#df-4697d016-0697-47b7-b657-8d4122182d1d');\n",
              "          const dataTable =\n",
              "            await google.colab.kernel.invokeFunction('convertToInteractive',\n",
              "                                                     [key], {});\n",
              "          if (!dataTable) return;\n",
              "\n",
              "          const docLinkHtml = 'Like what you see? Visit the ' +\n",
              "            '<a target=\"_blank\" href=https://colab.research.google.com/notebooks/data_table.ipynb>data table notebook</a>'\n",
              "            + ' to learn more about interactive tables.';\n",
              "          element.innerHTML = '';\n",
              "          dataTable['output_type'] = 'display_data';\n",
              "          await google.colab.output.renderOutput(dataTable, element);\n",
              "          const docLink = document.createElement('div');\n",
              "          docLink.innerHTML = docLinkHtml;\n",
              "          element.appendChild(docLink);\n",
              "        }\n",
              "      </script>\n",
              "    </div>\n",
              "  </div>\n",
              "  "
            ]
          },
          "metadata": {},
          "execution_count": 58
        }
      ],
      "source": [
        "# pemahaman terhadap data\n",
        "# ukuran data\n",
        "data.shape\n",
        "\n",
        "# info data\n",
        "data.info()\n",
        "\n",
        "# deskripsi data\n",
        "data.describe()"
      ]
    },
    {
      "cell_type": "markdown",
      "metadata": {
        "id": "UNVCYFfloVo2"
      },
      "source": [
        "### Visualisasi Data"
      ]
    },
    {
      "cell_type": "code",
      "execution_count": 63,
      "metadata": {
        "id": "o0cpe2UDoVo2"
      },
      "outputs": [],
      "source": [
        "# import library untuk visualisasi\n",
        "import matplotlib.pyplot as plt \n",
        "import seaborn as sns"
      ]
    },
    {
      "cell_type": "code",
      "execution_count": 70,
      "metadata": {
        "colab": {
          "base_uri": "https://localhost:8080/",
          "height": 358
        },
        "id": "-XBagvVxoVo3",
        "outputId": "b1c3d38b-9093-43e8-b609-f31d897bbacf"
      },
      "outputs": [
        {
          "output_type": "stream",
          "name": "stderr",
          "text": [
            "/usr/local/lib/python3.7/dist-packages/seaborn/axisgrid.py:2076: UserWarning: The `size` parameter has been renamed to `height`; please update your code.\n",
            "  warnings.warn(msg, UserWarning)\n"
          ]
        },
        {
          "output_type": "display_data",
          "data": {
            "text/plain": [
              "<Figure size 864x288 with 3 Axes>"
            ],
            "image/png": "[encoded data removed]"
          },
          "metadata": {
            "needs_background": "light"
          }
        }
      ],
      "source": [
        "# operasi visualisasi\n",
        "sns.pairplot(data, x_vars=['work_year','salary','salary_in_usd'], \n",
        "             y_vars='remote_ratio', size=4, aspect=1, kind='scatter')\n",
        "plt.show()"
      ]
    },
    {
      "cell_type": "markdown",
      "metadata": {
        "id": "5xFwVroIoVo4"
      },
      "source": [
        "output di atas kurang bisa menunjukkan korelasi antar data dalam x dengan data dalam y. Salah satu solusinya adalah menggunakan heatmap"
      ]
    },
    {
      "cell_type": "code",
      "execution_count": 71,
      "metadata": {
        "colab": {
          "base_uri": "https://localhost:8080/",
          "height": 327
        },
        "id": "80bTRTWqoVo5",
        "outputId": "7d59e86e-7542-40eb-f1f2-74fa4c58f6ab"
      },
      "outputs": [
        {
          "output_type": "display_data",
          "data": {
            "text/plain": [
              "<Figure size 432x288 with 2 Axes>"
            ],
            "image/png": "[encoded data removed]"
          },
          "metadata": {
            "needs_background": "light"
          }
        }
      ],
      "source": [
        "sns.heatmap(data.corr(), cmap=\"YlGnBu\", annot = True)\n",
        "plt.show()"
      ]
    },
    {
      "cell_type": "markdown",
      "metadata": {
        "id": "IvooWSMwoVo5"
      },
      "source": [
        "dari bentuk visualisasi di atas terlihat bahwa Length of Membership memiliki korelasi yang paling kuat terhadap Yearly Amount Spent"
      ]
    },
    {
      "cell_type": "markdown",
      "metadata": {
        "id": "K5UZgu0eoVo6"
      },
      "source": [
        "### Regresi Linier"
      ]
    },
    {
      "cell_type": "code",
      "execution_count": 77,
      "metadata": {
        "id": "2N6xbBfqoVo6"
      },
      "outputs": [],
      "source": [
        "# Buat variabel bebas X dan Y, sebagai contoh ambil dari hasil analisis korelasi dari kegaitan sebelumnya\n",
        "X = data['salary']\n",
        "y = data['salary_in_usd']"
      ]
    },
    {
      "cell_type": "code",
      "execution_count": 78,
      "metadata": {
        "id": "TCEihmk5oVo7"
      },
      "outputs": [],
      "source": [
        "# Buat pemisahan data uji dan data latih dengan proporsi 7:3\n",
        "from sklearn.model_selection import train_test_split\n",
        "X_train, X_test, y_train, y_test = train_test_split(X, y, train_size = 0.7, \n",
        "                                                    test_size = 0.3, random_state = 100)\n"
      ]
    },
    {
      "cell_type": "code",
      "execution_count": 79,
      "metadata": {
        "colab": {
          "base_uri": "https://localhost:8080/"
        },
        "id": "QBVyeg1woVo7",
        "outputId": "51d332d3-d40d-428e-b3cd-a2ad32ed47e3"
      },
      "outputs": [
        {
          "output_type": "execute_result",
          "data": {
            "text/plain": [
              "479    120000\n",
              "410     71982\n",
              "206    200000\n",
              "62      21669\n",
              "50       6072\n",
              "        ...  \n",
              "578    100000\n",
              "53      54742\n",
              "350    161342\n",
              "79      80000\n",
              "520     69336\n",
              "Name: salary_in_usd, Length: 424, dtype: int64"
            ]
          },
          "metadata": {},
          "execution_count": 79
        }
      ],
      "source": [
        "# hasil training dtaset\n",
        "X_train\n",
        "y_train"
      ]
    },
    {
      "cell_type": "code",
      "execution_count": 80,
      "metadata": {
        "id": "JkI10XNHoVo8"
      },
      "outputs": [],
      "source": [
        "# training model\n",
        "import statsmodels.api as sm\n",
        "\n",
        "X_train_sm = sm.add_constant(X_train)"
      ]
    },
    {
      "cell_type": "code",
      "execution_count": 81,
      "metadata": {
        "colab": {
          "base_uri": "https://localhost:8080/"
        },
        "id": "WJ0L_7NEoVo9",
        "outputId": "10c61f22-0ea1-4f82-900a-021ab2e1e2ca"
      },
      "outputs": [
        {
          "output_type": "execute_result",
          "data": {
            "text/plain": [
              "const     110707.229950\n",
              "salary        -0.003481\n",
              "dtype: float64"
            ]
          },
          "metadata": {},
          "execution_count": 81
        }
      ],
      "source": [
        "# fitting garis regresi\n",
        "lr = sm.OLS(y_train, X_train_sm).fit()\n",
        "lr.params"
      ]
    },
    {
      "cell_type": "code",
      "execution_count": 82,
      "metadata": {
        "colab": {
          "base_uri": "https://localhost:8080/",
          "height": 486
        },
        "id": "ISsZ2CZVoVo-",
        "outputId": "71fe03c1-3b59-40c6-8439-cc58a070036d"
      },
      "outputs": [
        {
          "output_type": "execute_result",
          "data": {
            "text/plain": [
              "<class 'statsmodels.iolib.summary.Summary'>\n",
              "\"\"\"\n",
              "                            OLS Regression Results                            \n",
              "==============================================================================\n",
              "Dep. Variable:          salary_in_usd   R-squared:                       0.008\n",
              "Model:                            OLS   Adj. R-squared:                  0.006\n",
              "Method:                 Least Squares   F-statistic:                     3.370\n",
              "Date:                Wed, 14 Sep 2022   Prob (F-statistic):             0.0671\n",
              "Time:                        11:36:33   Log-Likelihood:                -5326.9\n",
              "No. Observations:                 424   AIC:                         1.066e+04\n",
              "Df Residuals:                     422   BIC:                         1.067e+04\n",
              "Df Model:                           1                                         \n",
              "Covariance Type:            nonrobust                                         \n",
              "==============================================================================\n",
              "                 coef    std err          t      P>|t|      [0.025      0.975]\n",
              "------------------------------------------------------------------------------\n",
              "const       1.107e+05   3432.607     32.252      0.000    1.04e+05    1.17e+05\n",
              "salary        -0.0035      0.002     -1.836      0.067      -0.007       0.000\n",
              "==============================================================================\n",
              "Omnibus:                      179.748   Durbin-Watson:                   2.002\n",
              "Prob(Omnibus):                  0.000   Jarque-Bera (JB):             1154.823\n",
              "Skew:                           1.692   Prob(JB):                    1.71e-251\n",
              "Kurtosis:                      10.343   Cond. No.                     1.85e+06\n",
              "==============================================================================\n",
              "\n",
              "Notes:\n",
              "[1] Standard Errors assume that the covariance matrix of the errors is correctly specified.\n",
              "[2] The condition number is large, 1.85e+06. This might indicate that there are\n",
              "strong multicollinearity or other numerical problems.\n",
              "\"\"\""
            ],
            "text/html": [
              "<table class=\"simpletable\">\n",
              "<caption>OLS Regression Results</caption>\n",
              "<tr>\n",
              "  <th>Dep. Variable:</th>      <td>salary_in_usd</td>  <th>  R-squared:         </th> <td>   0.008</td> \n",
              "</tr>\n",
              "<tr>\n",
              "  <th>Model:</th>                   <td>OLS</td>       <th>  Adj. R-squared:    </th> <td>   0.006</td> \n",
              "</tr>\n",
              "<tr>\n",
              "  <th>Method:</th>             <td>Least Squares</td>  <th>  F-statistic:       </th> <td>   3.370</td> \n",
              "</tr>\n",
              "<tr>\n",
              "  <th>Date:</th>             <td>Wed, 14 Sep 2022</td> <th>  Prob (F-statistic):</th>  <td>0.0671</td>  \n",
              "</tr>\n",
              "<tr>\n",
              "  <th>Time:</th>                 <td>11:36:33</td>     <th>  Log-Likelihood:    </th> <td> -5326.9</td> \n",
              "</tr>\n",
              "<tr>\n",
              "  <th>No. Observations:</th>      <td>   424</td>      <th>  AIC:               </th> <td>1.066e+04</td>\n",
              "</tr>\n",
              "<tr>\n",
              "  <th>Df Residuals:</th>          <td>   422</td>      <th>  BIC:               </th> <td>1.067e+04</td>\n",
              "</tr>\n",
              "<tr>\n",
              "  <th>Df Model:</th>              <td>     1</td>      <th>                     </th>     <td> </td>    \n",
              "</tr>\n",
              "<tr>\n",
              "  <th>Covariance Type:</th>      <td>nonrobust</td>    <th>                     </th>     <td> </td>    \n",
              "</tr>\n",
              "</table>\n",
              "<table class=\"simpletable\">\n",
              "<tr>\n",
              "     <td></td>       <th>coef</th>     <th>std err</th>      <th>t</th>      <th>P>|t|</th>  <th>[0.025</th>    <th>0.975]</th>  \n",
              "</tr>\n",
              "<tr>\n",
              "  <th>const</th>  <td> 1.107e+05</td> <td> 3432.607</td> <td>   32.252</td> <td> 0.000</td> <td> 1.04e+05</td> <td> 1.17e+05</td>\n",
              "</tr>\n",
              "<tr>\n",
              "  <th>salary</th> <td>   -0.0035</td> <td>    0.002</td> <td>   -1.836</td> <td> 0.067</td> <td>   -0.007</td> <td>    0.000</td>\n",
              "</tr>\n",
              "</table>\n",
              "<table class=\"simpletable\">\n",
              "<tr>\n",
              "  <th>Omnibus:</th>       <td>179.748</td> <th>  Durbin-Watson:     </th> <td>   2.002</td> \n",
              "</tr>\n",
              "<tr>\n",
              "  <th>Prob(Omnibus):</th> <td> 0.000</td>  <th>  Jarque-Bera (JB):  </th> <td>1154.823</td> \n",
              "</tr>\n",
              "<tr>\n",
              "  <th>Skew:</th>          <td> 1.692</td>  <th>  Prob(JB):          </th> <td>1.71e-251</td>\n",
              "</tr>\n",
              "<tr>\n",
              "  <th>Kurtosis:</th>      <td>10.343</td>  <th>  Cond. No.          </th> <td>1.85e+06</td> \n",
              "</tr>\n",
              "</table><br/><br/>Notes:<br/>[1] Standard Errors assume that the covariance matrix of the errors is correctly specified.<br/>[2] The condition number is large, 1.85e+06. This might indicate that there are<br/>strong multicollinearity or other numerical problems."
            ]
          },
          "metadata": {},
          "execution_count": 82
        }
      ],
      "source": [
        "# analisis statistika dari garis regresi\n",
        "lr.summary()"
      ]
    },
    {
      "cell_type": "code",
      "execution_count": 83,
      "metadata": {
        "colab": {
          "base_uri": "https://localhost:8080/",
          "height": 289
        },
        "id": "otfEw2EvoVo-",
        "outputId": "44519be4-5ddf-4240-e77f-6b1e14670aa4"
      },
      "outputs": [
        {
          "output_type": "display_data",
          "data": {
            "text/plain": [
              "<Figure size 432x288 with 1 Axes>"
            ],
            "image/png": "[encoded data removed]"
          },
          "metadata": {
            "needs_background": "light"
          }
        }
      ],
      "source": [
        "# visualisasi garis regresi\n",
        "plt.scatter(X_train, y_train)\n",
        "plt.plot(X_train, 265.2483 + 66.3015*X_train, 'r')\n",
        "plt.show()"
      ]
    },
    {
      "cell_type": "markdown",
      "metadata": {
        "id": "9Rs_TxGMoVo_"
      },
      "source": [
        "### Residual Analysis\n",
        "dipakai untuk mengetahui tingkat error dari variabel yang dipengaruhi (y)\n",
        "\n",
        "Error = Actual y value - y predicted value"
      ]
    },
    {
      "cell_type": "code",
      "execution_count": 84,
      "metadata": {
        "id": "iWRakdsqoVpA"
      },
      "outputs": [],
      "source": [
        "# prediksi y_value dari data x yang telah dilatih\n",
        "y_train_pred = lr.predict(X_train_sm)\n",
        "\n",
        "res = (y_train - y_train_pred)"
      ]
    },
    {
      "cell_type": "code",
      "execution_count": 85,
      "metadata": {
        "colab": {
          "base_uri": "https://localhost:8080/",
          "height": 359
        },
        "id": "-Vns020zoVpA",
        "outputId": "e5e0fd8d-d80f-4cdf-f677-3a13a06b52ba"
      },
      "outputs": [
        {
          "output_type": "stream",
          "name": "stderr",
          "text": [
            "/usr/local/lib/python3.7/dist-packages/seaborn/distributions.py:2619: FutureWarning: `distplot` is a deprecated function and will be removed in a future version. Please adapt your code to use either `displot` (a figure-level function with similar flexibility) or `histplot` (an axes-level function for histograms).\n",
            "  warnings.warn(msg, FutureWarning)\n"
          ]
        },
        {
          "output_type": "display_data",
          "data": {
            "text/plain": [
              "<Figure size 432x288 with 1 Axes>"
            ],
            "image/png": "[encoded data removed]"
          },
          "metadata": {
            "needs_background": "light"
          }
        }
      ],
      "source": [
        "# cek histogram apakah berdistribusi normal atau tidak\n",
        "fig = plt.figure()\n",
        "sns.distplot(res, bins = 15)\n",
        "plt.title('Error Terms', fontsize = 15)\n",
        "plt.xlabel('y_train - y_train_pred', fontsize = 15)\n",
        "plt.show()"
      ]
    },
    {
      "cell_type": "code",
      "execution_count": 86,
      "metadata": {
        "colab": {
          "base_uri": "https://localhost:8080/",
          "height": 278
        },
        "id": "qSVuFk-YoVpB",
        "outputId": "05861fcf-6866-47b4-8093-c7083f916455"
      },
      "outputs": [
        {
          "output_type": "display_data",
          "data": {
            "text/plain": [
              "<Figure size 432x288 with 1 Axes>"
            ],
            "image/png": "[encoded data removed]"
          },
          "metadata": {
            "needs_background": "light"
          }
        }
      ],
      "source": [
        "plt.scatter(X_train,res)\n",
        "plt.show()"
      ]
    },
    {
      "cell_type": "code",
      "execution_count": 87,
      "metadata": {
        "colab": {
          "base_uri": "https://localhost:8080/"
        },
        "id": "Pxyfl8QQoVpC",
        "outputId": "4aac8d10-a3ee-4ad4-e5e0-46fb270d9a57"
      },
      "outputs": [
        {
          "output_type": "stream",
          "name": "stderr",
          "text": [
            "/usr/local/lib/python3.7/dist-packages/statsmodels/tsa/tsatools.py:142: FutureWarning: In a future version of pandas all arguments of concat except for the argument 'objs' will be keyword-only\n",
            "  x = pd.concat(x[::order], 1)\n"
          ]
        },
        {
          "output_type": "execute_result",
          "data": {
            "text/plain": [
              "379    110192.732547\n",
              "326    110254.695022\n",
              "154    110205.960491\n",
              "574    109976.211989\n",
              "312    110602.798812\n",
              "dtype: float64"
            ]
          },
          "metadata": {},
          "execution_count": 87
        }
      ],
      "source": [
        "# prediksi pada data uji dan evaluasi model\n",
        "X_test_sm = sm.add_constant(X_test)\n",
        "\n",
        "# prediksi y value yang berkorelasi dengan X_test_sm\n",
        "y_test_pred = lr.predict(X_test_sm)\n",
        "\n",
        "# cetak 5 data terprediksi teratas\n",
        "y_test_pred.head()"
      ]
    },
    {
      "cell_type": "code",
      "execution_count": 88,
      "metadata": {
        "colab": {
          "base_uri": "https://localhost:8080/"
        },
        "id": "FEvaQvS0oVpD",
        "outputId": "da188339-fcf0-4002-d95d-909fa73eebe2"
      },
      "outputs": [
        {
          "output_type": "execute_result",
          "data": {
            "text/plain": [
              "-0.01057493524931874"
            ]
          },
          "metadata": {},
          "execution_count": 88
        }
      ],
      "source": [
        "# hitung nilai r^2\n",
        "from sklearn.metrics import r2_score\n",
        "\n",
        "r_squared = r2_score(y_test, y_test_pred)\n",
        "r_squared"
      ]
    },
    {
      "cell_type": "markdown",
      "metadata": {
        "id": "73ys2ONkoVpE"
      },
      "source": [
        "perlu diperhatikan bahwa r^2 dari data trainign adalah 0.669 sedangkan dari data testing adalah 0,612. Hal ini berarti model yang dibentuk cukup stabil (tidak berselisih jauh antara training dengan testing)"
      ]
    },
    {
      "cell_type": "code",
      "execution_count": 89,
      "metadata": {
        "colab": {
          "base_uri": "https://localhost:8080/",
          "height": 278
        },
        "id": "P0hCBmeGoVpE",
        "outputId": "566a3792-8424-44c2-ec34-ab9fe588bd30"
      },
      "outputs": [
        {
          "output_type": "display_data",
          "data": {
            "text/plain": [
              "<Figure size 432x288 with 1 Axes>"
            ],
            "image/png": "[encoded data removed]"
          },
          "metadata": {
            "needs_background": "light"
          }
        }
      ],
      "source": [
        "# visualisasi data\n",
        "plt.scatter(X_test, y_test)\n",
        "plt.plot(X_test, y_test_pred, 'r')\n",
        "plt.show()"
      ]
    }
  ],
  "metadata": {
    "kernelspec": {
      "display_name": "Python 3.7.6 ('base')",
      "language": "python",
      "name": "python3"
    },
    "language_info": {
      "codemirror_mode": {
        "name": "ipython",
        "version": 3
      },
      "file_extension": ".py",
      "mimetype": "text/x-python",
      "name": "python",
      "nbconvert_exporter": "python",
      "pygments_lexer": "ipython3",
      "version": "3.7.6"
    },
    "orig_nbformat": 4,
    "vscode": {
      "interpreter": {
        "hash": "7e96b86f03d7d42bb76aac26192874394f42efe9d96b48d22368bab7dabddb55"
      }
    },
    "colab": {
      "provenance": [],
      "collapsed_sections": [],
      "include_colab_link": true
    }
  },
  "nbformat": 4,
  "nbformat_minor": 0
}